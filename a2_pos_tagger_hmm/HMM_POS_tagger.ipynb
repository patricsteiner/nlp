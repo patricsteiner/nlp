{
 "cells": [
  {
   "cell_type": "markdown",
   "metadata": {},
   "source": [
    "# HMM POS tagger for German, NLP assignment 2, FHNW FS18"
   ]
  },
  {
   "cell_type": "markdown",
   "metadata": {},
   "source": [
    "## Read and prepare data"
   ]
  },
  {
   "cell_type": "code",
   "execution_count": 368,
   "metadata": {},
   "outputs": [],
   "source": [
    "# map Stuttgart-Tübingen tagset to universal tagset\n",
    "stts_to_univ = {\n",
    "'ADJA': 'ADJ',\n",
    "'ADJD': 'ADJ',\n",
    "'ADV': 'ADV',\n",
    "'APPR': 'ADP',\n",
    "'APPRART': 'ADP',\n",
    "'APPO': 'ADP',\n",
    "'APZR': 'ADP',\n",
    "'ART': 'DET',\n",
    "'CARD': 'NUM',\n",
    "'FM': 'X',\n",
    "'ITJ': 'X',\n",
    "'KOUI': 'CONJ',\n",
    "'KOUS': 'CONJ',\n",
    "'KON': 'CONJ',\n",
    "'KOKOM': 'CONJ',\n",
    "'NN': 'NOUN',\n",
    "'NE': 'NOUN',\n",
    "'PDS': 'PRON',\n",
    "'PDAT': 'PRON',\n",
    "'PIS': 'PRON',\n",
    "'PIAT': 'PRON',\n",
    "'PIDAT': 'PRON',\n",
    "'PPER': 'PRON',\n",
    "'PPOSS': 'PRON',\n",
    "'PPOSAT': 'PRON',\n",
    "'PRELS': 'PRON',\n",
    "'PRELAT': 'PRON',\n",
    "'PRF': 'PRON',\n",
    "'PWS': 'PRON',\n",
    "'PWAT': 'PRON',\n",
    "'PWAV': 'PRON',\n",
    "'PAV': 'PRON',\n",
    "'PTKZU': 'PRT',\n",
    "'PTKNEG': 'PRT',\n",
    "'PTKVZ': 'PRT',\n",
    "'PTKANT': 'PRT',\n",
    "'PTKA': 'PRT',\n",
    "'TRUNC': 'X',\n",
    "'VVFIN': 'VERB',\n",
    "'VVIMP': 'VERB',\n",
    "'VVINF': 'VERB',\n",
    "'VVIZU': 'VERB',\n",
    "'VVPP': 'VERB',\n",
    "'VAFIN': 'VERB',\n",
    "'VAIMP': 'VERB',\n",
    "'VAINF': 'VERB',\n",
    "'VAPP': 'VERB',\n",
    "'VMFIN': 'VERB',\n",
    "'VMINF': 'VERB',\n",
    "'VMPP': 'VERB',\n",
    "'XY': 'X',\n",
    "'$,': '.',\n",
    "'$.': '.',\n",
    "'$(': '.'\n",
    "}"
   ]
  },
  {
   "cell_type": "code",
   "execution_count": 486,
   "metadata": {},
   "outputs": [],
   "source": [
    "def readfile(filename):\n",
    "    with open(filename, 'r') as f:\n",
    "        lines = f.readlines() # sentences are split by newline\n",
    "        \n",
    "    tagged_sents = []\n",
    "    for i, tagged_sent in enumerate(lines):\n",
    "        tagged_sents.append([])\n",
    "        for pair in tagged_sent.split(';'): # tagged words are split by ;\n",
    "            splitted = pair.split('/') # word and tag are split by /\n",
    "            if (len(splitted) == 2): # making sure we only get actual word-tag pairs\n",
    "                word = splitted[0].strip().lower()\n",
    "                tag = stts_to_univ[splitted[1].strip()] # map the stts tag to a universal tag\n",
    "                tagged_sents[i].append((word, tag))\n",
    "    \n",
    "    return tagged_sents"
   ]
  },
  {
   "cell_type": "code",
   "execution_count": 487,
   "metadata": {},
   "outputs": [],
   "source": [
    "tagged_sents = readfile(\"POS_German_train.txt\")\n",
    "tagged_sents_minitest = readfile(\"POS_German_minitest.txt\")"
   ]
  },
  {
   "cell_type": "code",
   "execution_count": 488,
   "metadata": {},
   "outputs": [],
   "source": [
    "from sklearn.model_selection import train_test_split\n",
    "\n",
    "# split data so we have additional testdata (not only sentences_minitest)\n",
    "tagged_sents_train, tagged_sents_test = train_test_split(tagged_sents, test_size=0.2, random_state=9000)"
   ]
  },
  {
   "cell_type": "code",
   "execution_count": 489,
   "metadata": {},
   "outputs": [
    {
     "data": {
      "text/plain": [
       "[[('paris', 'NOUN'), ('.', '.')],\n",
       " [('wenn', 'CONJ'),\n",
       "  ('ich', 'PRON'),\n",
       "  ('die', 'DET'),\n",
       "  ('bewegung', 'NOUN'),\n",
       "  ('des', 'DET'),\n",
       "  ('films', 'NOUN'),\n",
       "  ('nicht', 'PRT'),\n",
       "  ('spuere', 'VERB'),\n",
       "  (',', '.'),\n",
       "  ('kann', 'VERB'),\n",
       "  ('ich', 'PRON'),\n",
       "  ('nicht', 'PRT'),\n",
       "  ('schreiben', 'VERB'),\n",
       "  ('.', '.')],\n",
       " [('``', '.'),\n",
       "  ('unsere', 'PRON'),\n",
       "  ('division', 'NOUN'),\n",
       "  ('ist', 'VERB'),\n",
       "  ('genauso', 'ADV'),\n",
       "  ('volksverbunden', 'ADJ'),\n",
       "  ('wie', 'CONJ'),\n",
       "  ('andere', 'PRON'),\n",
       "  ('teile', 'NOUN'),\n",
       "  ('der', 'DET'),\n",
       "  ('armee', 'NOUN'),\n",
       "  (\"''\", '.'),\n",
       "  (',', '.'),\n",
       "  ('erfaehrt', 'VERB'),\n",
       "  ('helmut', 'NOUN'),\n",
       "  ('kohl', 'NOUN'),\n",
       "  ('aus', 'ADP'),\n",
       "  ('erster', 'ADJ'),\n",
       "  ('hand', 'NOUN'),\n",
       "  (',', '.'),\n",
       "  ('wie', 'PRON'),\n",
       "  ('der', 'DET'),\n",
       "  ('redetext', 'NOUN'),\n",
       "  ('des', 'DET'),\n",
       "  ('oberst', 'NOUN'),\n",
       "  ('zeigt', 'VERB'),\n",
       "  ('.', '.')]]"
      ]
     },
     "execution_count": 489,
     "metadata": {},
     "output_type": "execute_result"
    }
   ],
   "source": [
    "tagged_sents_train[:3]"
   ]
  },
  {
   "cell_type": "markdown",
   "metadata": {},
   "source": [
    "## Calculate emission probabilities P(word | tag)"
   ]
  },
  {
   "cell_type": "code",
   "execution_count": 511,
   "metadata": {},
   "outputs": [],
   "source": [
    "import itertools\n",
    "from nltk import FreqDist, ConditionalFreqDist\n",
    "\n",
    "tagged_words = list(itertools.chain(*tagged_sents)) # flatten\n",
    "\n",
    "tag_freqs = FreqDist(tag  for word, tag in tagged_words)\n",
    "word_freqs = FreqDist(word for word, tag in tagged_words)\n",
    "tag_probs =  dict(map(lambda pair: (pair[0], pair[1]/tag_freqs.N()), tag_freqs.items()))\n",
    "word_probs = dict(map(lambda pair: (pair[0], pair[1]/word_freqs.N()), word_freqs.items()))\n",
    "\n",
    "cond_tag_freqs = ConditionalFreqDist(tagged_words)\n",
    "cond_tag_probs = {} # P(tag | word)\n",
    "for word, tag_fdist in cond_tag_freqs.items():\n",
    "    cond_tag_probs[word] = dict(map(lambda pair: (pair[0], pair[1]/tag_fdist.N()), tag_fdist.items()))\n",
    "\n",
    "# using bayes law to get P(word | tag)\n",
    "cond_word_probs = {} # P(word | tag)\n",
    "for tag in tag_freqs:\n",
    "    cond_word_probs[tag] = {}\n",
    "    for word in word_freqs:\n",
    "        if tag in cond_tag_probs[word]:\n",
    "            cond_word_probs[tag][word] = cond_tag_probs[word][tag] * word_probs[word] / tag_probs[tag]"
   ]
  },
  {
   "cell_type": "code",
   "execution_count": 512,
   "metadata": {},
   "outputs": [
    {
     "name": "stdout",
     "output_type": "stream",
     "text": [
      ".:\t1.0\n",
      "NOUN:\t1.000000000000892\n",
      "VERB:\t0.9999999999999977\n",
      "ADV:\t1.0000000000000047\n",
      "DET:\t0.9999999999999999\n",
      "ADJ:\t1.0000000000001845\n",
      "ADP:\t1.0000000000000007\n",
      "PRT:\t0.9999999999999993\n",
      "PRON:\t1.0000000000000016\n",
      "X:\t1.0000000000000235\n",
      "CONJ:\t1.0000000000000002\n",
      "NUM:\t1.0000000000000242\n"
     ]
    }
   ],
   "source": [
    "# make sure all the sums are (approx.) 1\n",
    "for c in cond_word_probs.items():\n",
    "    print(c[0] + \":\\t\" + str(sum(b for a, b in c[1].items())))"
   ]
  },
  {
   "cell_type": "markdown",
   "metadata": {},
   "source": [
    "## Calculate transition probabilities P(tag_i | tag_j)"
   ]
  },
  {
   "cell_type": "code",
   "execution_count": 513,
   "metadata": {},
   "outputs": [],
   "source": [
    "### TODO"
   ]
  },
  {
   "cell_type": "markdown",
   "metadata": {},
   "source": [
    "## Use hidden Markov model to determine POS"
   ]
  },
  {
   "cell_type": "code",
   "execution_count": 514,
   "metadata": {},
   "outputs": [],
   "source": [
    "## TODO maybe implement my own ;P\n",
    "\n",
    "from nltk.tag.hmm import HiddenMarkovModelTrainer, HiddenMarkovModelTagger\n",
    "from nltk.probability import LidstoneProbDist\n",
    "\n",
    "tag_set = set([tag for sentence in sentences for word, tag in sentence])\n",
    "word_set = set([word for sentence in sentences for word, tag in sentence])\n",
    "\n",
    "trainer = HiddenMarkovModelTrainer(list(tag_set), list(word_set)) # make lists so items can potentionally be appended\n",
    "\n",
    "tagger = trainer.train_supervised(sentences_train, estimator=lambda fd, bins: LidstoneProbDist(fd, .1, bins))"
   ]
  },
  {
   "cell_type": "code",
   "execution_count": 515,
   "metadata": {},
   "outputs": [
    {
     "ename": "KeyboardInterrupt",
     "evalue": "",
     "output_type": "error",
     "traceback": [
      "\u001b[1;31m---------------------------------------------------------------------------\u001b[0m",
      "\u001b[1;31mKeyboardInterrupt\u001b[0m                         Traceback (most recent call last)",
      "\u001b[1;32m<ipython-input-515-d4bb8bbae0d9>\u001b[0m in \u001b[0;36m<module>\u001b[1;34m()\u001b[0m\n\u001b[1;32m----> 1\u001b[1;33m \u001b[0mtagger\u001b[0m\u001b[1;33m.\u001b[0m\u001b[0mtest\u001b[0m\u001b[1;33m(\u001b[0m\u001b[0msentences_test\u001b[0m\u001b[1;33m)\u001b[0m \u001b[1;31m#, verbose=True --> TAKES FOREVER, but super high accuracy\u001b[0m\u001b[1;33m\u001b[0m\u001b[0m\n\u001b[0m",
      "\u001b[1;32m~\\Anaconda3\\lib\\site-packages\\nltk\\tag\\hmm.py\u001b[0m in \u001b[0;36mtest\u001b[1;34m(self, test_sequence, verbose, **kwargs)\u001b[0m\n\u001b[0;32m    781\u001b[0m \u001b[1;33m\u001b[0m\u001b[0m\n\u001b[0;32m    782\u001b[0m         \u001b[0mtest_sequence\u001b[0m \u001b[1;33m=\u001b[0m \u001b[0mself\u001b[0m\u001b[1;33m.\u001b[0m\u001b[0m_transform\u001b[0m\u001b[1;33m(\u001b[0m\u001b[0mtest_sequence\u001b[0m\u001b[1;33m)\u001b[0m\u001b[1;33m\u001b[0m\u001b[0m\n\u001b[1;32m--> 783\u001b[1;33m         \u001b[0mpredicted_sequence\u001b[0m \u001b[1;33m=\u001b[0m \u001b[0mlist\u001b[0m\u001b[1;33m(\u001b[0m\u001b[0mmap\u001b[0m\u001b[1;33m(\u001b[0m\u001b[0mself\u001b[0m\u001b[1;33m.\u001b[0m\u001b[0m_tag\u001b[0m\u001b[1;33m,\u001b[0m \u001b[0mmap\u001b[0m\u001b[1;33m(\u001b[0m\u001b[0mwords\u001b[0m\u001b[1;33m,\u001b[0m \u001b[0mtest_sequence\u001b[0m\u001b[1;33m)\u001b[0m\u001b[1;33m)\u001b[0m\u001b[1;33m)\u001b[0m\u001b[1;33m\u001b[0m\u001b[0m\n\u001b[0m\u001b[0;32m    784\u001b[0m \u001b[1;33m\u001b[0m\u001b[0m\n\u001b[0;32m    785\u001b[0m         \u001b[1;32mif\u001b[0m \u001b[0mverbose\u001b[0m\u001b[1;33m:\u001b[0m\u001b[1;33m\u001b[0m\u001b[0m\n",
      "\u001b[1;32m~\\Anaconda3\\lib\\site-packages\\nltk\\tag\\hmm.py\u001b[0m in \u001b[0;36m_tag\u001b[1;34m(self, unlabeled_sequence)\u001b[0m\n\u001b[0;32m    271\u001b[0m \u001b[1;33m\u001b[0m\u001b[0m\n\u001b[0;32m    272\u001b[0m     \u001b[1;32mdef\u001b[0m \u001b[0m_tag\u001b[0m\u001b[1;33m(\u001b[0m\u001b[0mself\u001b[0m\u001b[1;33m,\u001b[0m \u001b[0munlabeled_sequence\u001b[0m\u001b[1;33m)\u001b[0m\u001b[1;33m:\u001b[0m\u001b[1;33m\u001b[0m\u001b[0m\n\u001b[1;32m--> 273\u001b[1;33m         \u001b[0mpath\u001b[0m \u001b[1;33m=\u001b[0m \u001b[0mself\u001b[0m\u001b[1;33m.\u001b[0m\u001b[0m_best_path\u001b[0m\u001b[1;33m(\u001b[0m\u001b[0munlabeled_sequence\u001b[0m\u001b[1;33m)\u001b[0m\u001b[1;33m\u001b[0m\u001b[0m\n\u001b[0m\u001b[0;32m    274\u001b[0m         \u001b[1;32mreturn\u001b[0m \u001b[0mlist\u001b[0m\u001b[1;33m(\u001b[0m\u001b[0mzip\u001b[0m\u001b[1;33m(\u001b[0m\u001b[0munlabeled_sequence\u001b[0m\u001b[1;33m,\u001b[0m \u001b[0mpath\u001b[0m\u001b[1;33m)\u001b[0m\u001b[1;33m)\u001b[0m\u001b[1;33m\u001b[0m\u001b[0m\n\u001b[0;32m    275\u001b[0m \u001b[1;33m\u001b[0m\u001b[0m\n",
      "\u001b[1;32m~\\Anaconda3\\lib\\site-packages\\nltk\\tag\\hmm.py\u001b[0m in \u001b[0;36m_best_path\u001b[1;34m(self, unlabeled_sequence)\u001b[0m\n\u001b[0;32m    371\u001b[0m         \u001b[0mN\u001b[0m \u001b[1;33m=\u001b[0m \u001b[0mlen\u001b[0m\u001b[1;33m(\u001b[0m\u001b[0mself\u001b[0m\u001b[1;33m.\u001b[0m\u001b[0m_states\u001b[0m\u001b[1;33m)\u001b[0m\u001b[1;33m\u001b[0m\u001b[0m\n\u001b[0;32m    372\u001b[0m         \u001b[0mself\u001b[0m\u001b[1;33m.\u001b[0m\u001b[0m_create_cache\u001b[0m\u001b[1;33m(\u001b[0m\u001b[1;33m)\u001b[0m\u001b[1;33m\u001b[0m\u001b[0m\n\u001b[1;32m--> 373\u001b[1;33m         \u001b[0mself\u001b[0m\u001b[1;33m.\u001b[0m\u001b[0m_update_cache\u001b[0m\u001b[1;33m(\u001b[0m\u001b[0munlabeled_sequence\u001b[0m\u001b[1;33m)\u001b[0m\u001b[1;33m\u001b[0m\u001b[0m\n\u001b[0m\u001b[0;32m    374\u001b[0m         \u001b[0mP\u001b[0m\u001b[1;33m,\u001b[0m \u001b[0mO\u001b[0m\u001b[1;33m,\u001b[0m \u001b[0mX\u001b[0m\u001b[1;33m,\u001b[0m \u001b[0mS\u001b[0m \u001b[1;33m=\u001b[0m \u001b[0mself\u001b[0m\u001b[1;33m.\u001b[0m\u001b[0m_cache\u001b[0m\u001b[1;33m\u001b[0m\u001b[0m\n\u001b[0;32m    375\u001b[0m \u001b[1;33m\u001b[0m\u001b[0m\n",
      "\u001b[1;32m~\\Anaconda3\\lib\\site-packages\\nltk\\tag\\hmm.py\u001b[0m in \u001b[0;36m_update_cache\u001b[1;34m(self, symbols)\u001b[0m\n\u001b[0;32m    329\u001b[0m             \u001b[0mP\u001b[0m\u001b[1;33m,\u001b[0m \u001b[0mO\u001b[0m\u001b[1;33m,\u001b[0m \u001b[0mX\u001b[0m\u001b[1;33m,\u001b[0m \u001b[0mS\u001b[0m \u001b[1;33m=\u001b[0m \u001b[0mself\u001b[0m\u001b[1;33m.\u001b[0m\u001b[0m_cache\u001b[0m\u001b[1;33m\u001b[0m\u001b[0m\n\u001b[0;32m    330\u001b[0m             \u001b[1;32mfor\u001b[0m \u001b[0msymbol\u001b[0m \u001b[1;32min\u001b[0m \u001b[0msymbols\u001b[0m\u001b[1;33m:\u001b[0m\u001b[1;33m\u001b[0m\u001b[0m\n\u001b[1;32m--> 331\u001b[1;33m                 \u001b[1;32mif\u001b[0m \u001b[0msymbol\u001b[0m \u001b[1;32mnot\u001b[0m \u001b[1;32min\u001b[0m \u001b[0mself\u001b[0m\u001b[1;33m.\u001b[0m\u001b[0m_symbols\u001b[0m\u001b[1;33m:\u001b[0m\u001b[1;33m\u001b[0m\u001b[0m\n\u001b[0m\u001b[0;32m    332\u001b[0m                     \u001b[0mself\u001b[0m\u001b[1;33m.\u001b[0m\u001b[0m_cache\u001b[0m \u001b[1;33m=\u001b[0m \u001b[1;32mNone\u001b[0m\u001b[1;33m\u001b[0m\u001b[0m\n\u001b[0;32m    333\u001b[0m                     \u001b[0mself\u001b[0m\u001b[1;33m.\u001b[0m\u001b[0m_symbols\u001b[0m\u001b[1;33m.\u001b[0m\u001b[0mappend\u001b[0m\u001b[1;33m(\u001b[0m\u001b[0msymbol\u001b[0m\u001b[1;33m)\u001b[0m\u001b[1;33m\u001b[0m\u001b[0m\n",
      "\u001b[1;31mKeyboardInterrupt\u001b[0m: "
     ]
    }
   ],
   "source": [
    "tagger.test(sentences_test) #, verbose=True --> TAKES FOREVER, but super high accuracy"
   ]
  },
  {
   "cell_type": "code",
   "execution_count": 516,
   "metadata": {},
   "outputs": [
    {
     "name": "stdout",
     "output_type": "stream",
     "text": [
      "accuracy over 1812 tokens: 96.52\n"
     ]
    }
   ],
   "source": [
    "tagger.test(sentences_minitest[:100]) #, verbose=True --> TAKES FOREVER, but super high accuracy"
   ]
  },
  {
   "cell_type": "code",
   "execution_count": 517,
   "metadata": {},
   "outputs": [
    {
     "data": {
      "text/plain": [
       "[('Der', 'DET'),\n",
       " ('schnelle', 'ADJ'),\n",
       " ('Fuchs', 'NOUN'),\n",
       " ('springt', 'VERB'),\n",
       " ('über', 'ADP'),\n",
       " ('den', 'DET'),\n",
       " ('faulen', 'ADJ'),\n",
       " ('Zaun', 'NOUN')]"
      ]
     },
     "execution_count": 517,
     "metadata": {},
     "output_type": "execute_result"
    }
   ],
   "source": [
    "tagger.tag(\"Der schnelle Fuchs springt über den faulen Zaun\".split())"
   ]
  },
  {
   "cell_type": "code",
   "execution_count": null,
   "metadata": {},
   "outputs": [],
   "source": []
  },
  {
   "cell_type": "code",
   "execution_count": null,
   "metadata": {},
   "outputs": [],
   "source": []
  }
 ],
 "metadata": {
  "kernelspec": {
   "display_name": "Python 3",
   "language": "python",
   "name": "python3"
  },
  "language_info": {
   "codemirror_mode": {
    "name": "ipython",
    "version": 3
   },
   "file_extension": ".py",
   "mimetype": "text/x-python",
   "name": "python",
   "nbconvert_exporter": "python",
   "pygments_lexer": "ipython3",
   "version": "3.6.4"
  }
 },
 "nbformat": 4,
 "nbformat_minor": 2
}
