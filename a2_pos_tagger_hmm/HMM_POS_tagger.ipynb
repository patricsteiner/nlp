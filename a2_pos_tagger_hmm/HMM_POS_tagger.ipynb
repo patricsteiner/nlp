{
 "cells": [
  {
   "cell_type": "markdown",
   "metadata": {},
   "source": [
    "# HMM POS tagger, NLP assignment 2, FHNW FS18"
   ]
  },
  {
   "cell_type": "markdown",
   "metadata": {},
   "source": [
    "## Read and prepare data"
   ]
  },
  {
   "cell_type": "code",
   "execution_count": 248,
   "metadata": {},
   "outputs": [],
   "source": [
    "# map Stuttgart-Tübingen tagset to universal tagset\n",
    "stts_to_univ = {\n",
    "'ADJA': 'ADJ',\n",
    "'ADJD': 'ADJ',\n",
    "'ADV': 'ADV',\n",
    "'APPR': 'ADP',\n",
    "'APPRART': 'ADP',\n",
    "'APPO': 'ADP',\n",
    "'APZR': 'ADP',\n",
    "'ART': 'DET',\n",
    "'CARD': 'NUM',\n",
    "'FM': 'X',\n",
    "'ITJ': 'X',\n",
    "'KOUI': 'CONJ',\n",
    "'KOUS': 'CONJ',\n",
    "'KON': 'CONJ',\n",
    "'KOKOM': 'CONJ',\n",
    "'NN': 'NOUN',\n",
    "'NE': 'NOUN',\n",
    "'PDS': 'PRON',\n",
    "'PDAT': 'PRON',\n",
    "'PIS': 'PRON',\n",
    "'PIAT': 'PRON',\n",
    "'PIDAT': 'PRON',\n",
    "'PPER': 'PRON',\n",
    "'PPOSS': 'PRON',\n",
    "'PPOSAT': 'PRON',\n",
    "'PRELS': 'PRON',\n",
    "'PRELAT': 'PRON',\n",
    "'PRF': 'PRON',\n",
    "'PWS': 'PRON',\n",
    "'PWAT': 'PRON',\n",
    "'PWAV': 'PRON',\n",
    "'PAV': 'PRON',\n",
    "'PTKZU': 'PRT',\n",
    "'PTKNEG': 'PRT',\n",
    "'PTKVZ': 'PRT',\n",
    "'PTKANT': 'PRT',\n",
    "'PTKA': 'PRT',\n",
    "'TRUNC': 'X',\n",
    "'VVFIN': 'VERB',\n",
    "'VVIMP': 'VERB',\n",
    "'VVINF': 'VERB',\n",
    "'VVIZU': 'VERB',\n",
    "'VVPP': 'VERB',\n",
    "'VAFIN': 'VERB',\n",
    "'VAIMP': 'VERB',\n",
    "'VAINF': 'VERB',\n",
    "'VAPP': 'VERB',\n",
    "'VMFIN': 'VERB',\n",
    "'VMINF': 'VERB',\n",
    "'VMPP': 'VERB',\n",
    "'XY': 'X',\n",
    "'$,': '.',\n",
    "'$.': '.',\n",
    "'$(': '.'\n",
    "}"
   ]
  },
  {
   "cell_type": "code",
   "execution_count": 249,
   "metadata": {},
   "outputs": [],
   "source": [
    "def readfile(filename):\n",
    "    with open(filename, 'r') as f:\n",
    "        lines = f.readlines() # sentences are split by newline\n",
    "        \n",
    "    labeled_sentences = []\n",
    "    for i, sentence in enumerate(lines):\n",
    "        labeled_sentences.append([])\n",
    "        for pair in sentence.split(';'): # labeled words are split by ;\n",
    "            splitted = pair.split('/') # word and tag are split by /\n",
    "            if (len(splitted) == 2): # making sure we only get actual word-tag pairs\n",
    "                word = splitted[0].strip()\n",
    "                tag = stts_to_univ[splitted[1].strip()] # map the stts tag to a universal tag\n",
    "                labeled_sentences[i].append((word, tag))\n",
    "    \n",
    "    return sentences"
   ]
  },
  {
   "cell_type": "code",
   "execution_count": 250,
   "metadata": {},
   "outputs": [],
   "source": [
    "sentences = readfile(\"POS_German_train.txt\")\n",
    "sentences_minitest = readfile(\"POS_German_minitest.txt\")"
   ]
  },
  {
   "cell_type": "code",
   "execution_count": 251,
   "metadata": {},
   "outputs": [],
   "source": [
    "from sklearn.model_selection import train_test_split\n",
    "\n",
    "# split data so we have additional testdata (not only sentences_minitest)\n",
    "sentences_train, sentences_test = train_test_split(sentences, test_size=0.2, random_state=9000)"
   ]
  },
  {
   "cell_type": "code",
   "execution_count": 252,
   "metadata": {},
   "outputs": [
    {
     "data": {
      "text/plain": [
       "[[('Angesichts', 'ADP'),\n",
       "  ('der', 'DET'),\n",
       "  ('verstaerkten', 'ADJ'),\n",
       "  ('Rolle', 'NOUN'),\n",
       "  ('Deutschlands', 'NOUN'),\n",
       "  ('in', 'ADP'),\n",
       "  ('der', 'DET'),\n",
       "  ('Weltwirtschaft', 'NOUN'),\n",
       "  ('muessten', 'VERB'),\n",
       "  ('auch', 'ADV'),\n",
       "  ('die', 'DET'),\n",
       "  ('globalen', 'ADJ'),\n",
       "  ('Aspekte', 'NOUN'),\n",
       "  ('der', 'DET'),\n",
       "  ('Entwicklungshilfe', 'NOUN'),\n",
       "  ('staerker', 'ADJ'),\n",
       "  ('zum', 'ADP'),\n",
       "  ('Tragen', 'NOUN'),\n",
       "  ('kommen', 'VERB'),\n",
       "  ('.', '.')],\n",
       " [('Interessant', 'ADJ'), ('.', '.')],\n",
       " [('Der', 'DET'),\n",
       "  ('Eindruck', 'NOUN'),\n",
       "  ('vom', 'ADP'),\n",
       "  ('Ende', 'NOUN'),\n",
       "  ('einer', 'DET'),\n",
       "  ('Epoche', 'NOUN'),\n",
       "  ('wird', 'VERB'),\n",
       "  ('verstaerkt', 'VERB'),\n",
       "  (',', '.'),\n",
       "  ('nachdem', 'CONJ'),\n",
       "  ('auch', 'ADV'),\n",
       "  ('auf', 'ADP'),\n",
       "  ('dem', 'DET'),\n",
       "  ('Aushaengeschild', 'NOUN'),\n",
       "  ('der', 'DET'),\n",
       "  ('Genossenschaftswirtschaft', 'NOUN'),\n",
       "  (',', '.'),\n",
       "  ('dem', 'DET'),\n",
       "  ('Einzelhandelskonzern', 'NOUN'),\n",
       "  ('Konsum', 'NOUN'),\n",
       "  (',', '.'),\n",
       "  ('der', 'DET'),\n",
       "  ('Pleitegeier', 'NOUN'),\n",
       "  ('klebt', 'VERB'),\n",
       "  ('.', '.')]]"
      ]
     },
     "execution_count": 252,
     "metadata": {},
     "output_type": "execute_result"
    }
   ],
   "source": [
    "sentences_train[:3]"
   ]
  },
  {
   "cell_type": "code",
   "execution_count": 286,
   "metadata": {},
   "outputs": [],
   "source": [
    "from nltk.tag.hmm import HiddenMarkovModelTrainer, HiddenMarkovModelTagger\n",
    "from nltk.probability import LidstoneProbDist\n",
    "\n",
    "tag_set = set([tag for sentence in sentences for word, tag in sentence])\n",
    "word_set = set([word for sentence in sentences for word, tag in sentence])\n",
    "\n",
    "trainer = HiddenMarkovModelTrainer(list(tag_set), list(word_set)) # make lists so items can potentionally be appended\n",
    "\n",
    "tagger = trainer.train_supervised(sentences_train, estimator=lambda fd, bins: LidstoneProbDist(fd, .1, bins))"
   ]
  },
  {
   "cell_type": "code",
   "execution_count": null,
   "metadata": {},
   "outputs": [],
   "source": [
    "tagger.test(sentences_test) #, verbose=True --> TAKES FOREVER, but super high accuracy"
   ]
  },
  {
   "cell_type": "code",
   "execution_count": null,
   "metadata": {},
   "outputs": [],
   "source": [
    "tagger.test(sentences_minitest) #, verbose=True --> TAKES FOREVER, but super high accuracy"
   ]
  },
  {
   "cell_type": "code",
   "execution_count": 288,
   "metadata": {},
   "outputs": [
    {
     "data": {
      "text/plain": [
       "[('Der', 'DET'),\n",
       " ('schnelle', 'ADJ'),\n",
       " ('Fuchs', 'NOUN'),\n",
       " ('springt', 'VERB'),\n",
       " ('über', 'ADP'),\n",
       " ('den', 'DET'),\n",
       " ('faulen', 'ADJ'),\n",
       " ('Zaun', 'NOUN')]"
      ]
     },
     "execution_count": 288,
     "metadata": {},
     "output_type": "execute_result"
    }
   ],
   "source": [
    "tagger.tag(\"Der schnelle Fuchs springt über den faulen Zaun\".split())"
   ]
  },
  {
   "cell_type": "code",
   "execution_count": null,
   "metadata": {},
   "outputs": [],
   "source": []
  },
  {
   "cell_type": "code",
   "execution_count": null,
   "metadata": {},
   "outputs": [],
   "source": []
  }
 ],
 "metadata": {
  "kernelspec": {
   "display_name": "Python 3",
   "language": "python",
   "name": "python3"
  },
  "language_info": {
   "codemirror_mode": {
    "name": "ipython",
    "version": 3
   },
   "file_extension": ".py",
   "mimetype": "text/x-python",
   "name": "python",
   "nbconvert_exporter": "python",
   "pygments_lexer": "ipython3",
   "version": "3.6.4"
  }
 },
 "nbformat": 4,
 "nbformat_minor": 2
}
