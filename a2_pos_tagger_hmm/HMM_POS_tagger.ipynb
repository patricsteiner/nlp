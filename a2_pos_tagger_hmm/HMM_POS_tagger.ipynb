{
 "cells": [
  {
   "cell_type": "markdown",
   "metadata": {},
   "source": [
    "# HMM POS tagger, NLP assignment 2, FHNW FS18"
   ]
  },
  {
   "cell_type": "markdown",
   "metadata": {},
   "source": [
    "## Read and prepare data"
   ]
  },
  {
   "cell_type": "code",
   "execution_count": 77,
   "metadata": {},
   "outputs": [],
   "source": [
    "# map Stuttgart-Tübingen tagset to universal tagset\n",
    "stts_to_univ = {\n",
    "'ADJA': 'ADJ',\n",
    "'ADJD': 'ADJ',\n",
    "'ADV': 'ADV',\n",
    "'APPR': 'ADP',\n",
    "'APPRART': 'ADP',\n",
    "'APPO': 'ADP',\n",
    "'APZR': 'ADP',\n",
    "'ART': 'DET',\n",
    "'CARD': 'NUM',\n",
    "'FM': 'X',\n",
    "'ITJ': 'X',\n",
    "'KOUI': 'CONJ',\n",
    "'KOUS': 'CONJ',\n",
    "'KON': 'CONJ',\n",
    "'KOKOM': 'CONJ',\n",
    "'NN': 'NOUN',\n",
    "'NE': 'NOUN',\n",
    "'PDS': 'PRON',\n",
    "'PDAT': 'PRON',\n",
    "'PIS': 'PRON',\n",
    "'PIAT': 'PRON',\n",
    "'PIDAT': 'PRON',\n",
    "'PPER': 'PRON',\n",
    "'PPOSS': 'PRON',\n",
    "'PPOSAT': 'PRON',\n",
    "'PRELS': 'PRON',\n",
    "'PRELAT': 'PRON',\n",
    "'PRF': 'PRON',\n",
    "'PWS': 'PRON',\n",
    "'PWAT': 'PRON',\n",
    "'PWAV': 'PRON',\n",
    "'PAV': 'PRON',\n",
    "'PTKZU': 'PRT',\n",
    "'PTKNEG': 'PRT',\n",
    "'PTKVZ': 'PRT',\n",
    "'PTKANT': 'PRT',\n",
    "'PTKA': 'PRT',\n",
    "'TRUNC': 'X',\n",
    "'VVFIN': 'VERB',\n",
    "'VVIMP': 'VERB',\n",
    "'VVINF': 'VERB',\n",
    "'VVIZU': 'VERB',\n",
    "'VVPP': 'VERB',\n",
    "'VAFIN': 'VERB',\n",
    "'VAIMP': 'VERB',\n",
    "'VAINF': 'VERB',\n",
    "'VAPP': 'VERB',\n",
    "'VMFIN': 'VERB',\n",
    "'VMINF': 'VERB',\n",
    "'VMPP': 'VERB',\n",
    "'XY': 'X',\n",
    "'$,': '.',\n",
    "'$.': '.',\n",
    "'$(': '.'\n",
    "}\n",
    "\n",
    "with open(\"POS_German_train.txt\", \"r\") as f:\n",
    "    content = f.read()\n",
    "    \n",
    "words = []\n",
    "tags = []\n",
    "\n",
    "for pair in content.split(';'):\n",
    "    splitted = pair.split('/')\n",
    "    if (len(splitted) == 2):\n",
    "        words.append(splitted[0].strip())\n",
    "        tags.append(stts_to_univ[splitted[1].strip()])\n",
    "        \n"
   ]
  },
  {
   "cell_type": "code",
   "execution_count": 78,
   "metadata": {},
   "outputs": [
    {
     "name": "stdout",
     "output_type": "stream",
     "text": [
      "{'NOUN', 'X', 'CONJ', 'NUM', 'ADJ', 'ADP', 'PRON', '.', 'PRT', 'VERB', 'DET', 'ADV'}\n"
     ]
    }
   ],
   "source": [
    "print(set(tags))"
   ]
  },
  {
   "cell_type": "code",
   "execution_count": 73,
   "metadata": {},
   "outputs": [],
   "source": []
  },
  {
   "cell_type": "code",
   "execution_count": null,
   "metadata": {},
   "outputs": [],
   "source": []
  }
 ],
 "metadata": {
  "kernelspec": {
   "display_name": "Python 3",
   "language": "python",
   "name": "python3"
  },
  "language_info": {
   "codemirror_mode": {
    "name": "ipython",
    "version": 3
   },
   "file_extension": ".py",
   "mimetype": "text/x-python",
   "name": "python",
   "nbconvert_exporter": "python",
   "pygments_lexer": "ipython3",
   "version": "3.6.4"
  }
 },
 "nbformat": 4,
 "nbformat_minor": 2
}
